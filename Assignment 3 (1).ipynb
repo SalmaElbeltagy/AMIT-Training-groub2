{
 "cells": [
  {
   "cell_type": "markdown",
   "metadata": {},
   "source": [
    "# Assignment 3"
   ]
  },
  {
   "cell_type": "markdown",
   "metadata": {},
   "source": [
    "### Write a function to count the number 4 in a given list."
   ]
  },
  {
   "cell_type": "code",
   "execution_count": 89,
   "metadata": {},
   "outputs": [
    {
     "name": "stdout",
     "output_type": "stream",
     "text": [
      "enter your list3 4 5 6 3 4\n"
     ]
    },
    {
     "data": {
      "text/plain": [
       "2"
      ]
     },
     "execution_count": 89,
     "metadata": {},
     "output_type": "execute_result"
    }
   ],
   "source": [
    "def count(l):\n",
    "    c=0\n",
    "   \n",
    "    for i in l:\n",
    "        if i=='4':\n",
    "            c=c+1\n",
    "    return c\n",
    "l=input('enter your list').split()\n",
    "count(l)\n"
   ]
  },
  {
   "cell_type": "markdown",
   "metadata": {},
   "source": [
    "### write a  function to check whether a number is divisible by another number."
   ]
  },
  {
   "cell_type": "code",
   "execution_count": 85,
   "metadata": {},
   "outputs": [
    {
     "name": "stdout",
     "output_type": "stream",
     "text": [
      "yes\n"
     ]
    }
   ],
   "source": [
    "def divis(x,y):\n",
    "    x=2\n",
    "    y=2\n",
    "    if x%y==0:\n",
    "        print(\"yes\")\n",
    "    elif x%y==1:\n",
    "        print(\"no\")\n",
    "divis(x,y)        "
   ]
  },
  {
   "cell_type": "markdown",
   "metadata": {},
   "source": [
    "### write a function to find the maximum and minimum numbers from a sequence of numbers."
   ]
  },
  {
   "cell_type": "code",
   "execution_count": 84,
   "metadata": {},
   "outputs": [
    {
     "name": "stdout",
     "output_type": "stream",
     "text": [
      "maximum number is : 4\n",
      "minimum number is : 1\n"
     ]
    }
   ],
   "source": [
    "def filter(l):\n",
    "    l=[1,2,2,3,4]\n",
    "    print(\"maximum number is :\",max(l))\n",
    "    print(\"minimum number is :\",min(l))\n",
    "filter(l)\n",
    "        "
   ]
  },
  {
   "cell_type": "markdown",
   "metadata": {},
   "source": [
    "### Write a Python function that takes two lists and returns True if they have at least one common member."
   ]
  },
  {
   "cell_type": "code",
   "execution_count": 36,
   "metadata": {},
   "outputs": [
    {
     "data": {
      "text/plain": [
       "'true'"
      ]
     },
     "execution_count": 36,
     "metadata": {},
     "output_type": "execute_result"
    }
   ],
   "source": [
    "def lists(l1,l2):\n",
    "    \n",
    "    len(l1)\n",
    "    \n",
    "    for i in range(0,len(l1)):\n",
    "        \n",
    "        if l1[i]==l2[i]:\n",
    "            \n",
    "            return \"true\"\n",
    "        \n",
    "z=lists([1,1,2,3],[1,4,5,4])\n",
    "z"
   ]
  },
  {
   "cell_type": "markdown",
   "metadata": {},
   "source": [
    "### Write a Python function to calculate the factorial of a number (a non-negative integer). The function accepts the number from the user"
   ]
  },
  {
   "cell_type": "code",
   "execution_count": 44,
   "metadata": {},
   "outputs": [
    {
     "name": "stdout",
     "output_type": "stream",
     "text": [
      "enter num5\n"
     ]
    },
    {
     "data": {
      "text/plain": [
       "120"
      ]
     },
     "execution_count": 44,
     "metadata": {},
     "output_type": "execute_result"
    }
   ],
   "source": [
    "def factorial(x):\n",
    "    if x==1:\n",
    "        return 1\n",
    "    elif x>1:\n",
    "        \n",
    "        return x*factorial(x-1)\n",
    "\n",
    "x=int(input('enter num'))\n",
    "    \n",
    "z=factorial(x)\n",
    "\n",
    "z"
   ]
  },
  {
   "cell_type": "markdown",
   "metadata": {},
   "source": [
    "### Write a Python function to check whether a number is in a given range.\n",
    "\n",
    "### The range is from 3 to 11\n"
   ]
  },
  {
   "cell_type": "code",
   "execution_count": 51,
   "metadata": {},
   "outputs": [
    {
     "name": "stdout",
     "output_type": "stream",
     "text": [
      "enter num 23\n"
     ]
    },
    {
     "data": {
      "text/plain": [
       "'not found'"
      ]
     },
     "execution_count": 51,
     "metadata": {},
     "output_type": "execute_result"
    }
   ],
   "source": [
    "def check(x):\n",
    "    for i in range(3,12):\n",
    "        if x==i:\n",
    "            return 'write'\n",
    "\n",
    "        else:\n",
    "            return \"not found\"\n",
    "x=int(input(\"enter num \"))\n",
    "z=check(x)\n",
    "z"
   ]
  },
  {
   "cell_type": "markdown",
   "metadata": {},
   "source": [
    "### Write a  program to create the multiplication table (from 1 to 10) of a number."
   ]
  },
  {
   "cell_type": "code",
   "execution_count": 56,
   "metadata": {},
   "outputs": [
    {
     "name": "stdout",
     "output_type": "stream",
     "text": [
      "enter num2\n",
      "2\n",
      "4\n",
      "6\n",
      "8\n",
      "10\n",
      "12\n",
      "14\n",
      "16\n",
      "18\n",
      "20\n"
     ]
    }
   ],
   "source": [
    "def mult(x):\n",
    "    a=1\n",
    "    for i in range(1,11):\n",
    "        a=x*i\n",
    "        print(a)\n",
    "        \n",
    "x=int(input(\"enter num\"))\n",
    "z=mult(x)\n",
    "z"
   ]
  },
  {
   "cell_type": "markdown",
   "metadata": {},
   "source": [
    "#### LESSER OF TWO EVENS: Write a function that returns the lesser of two given numbers *if* both numbers are even, but returns the greater if one or both numbers are odd\n",
    "    lesser_of_two_evens(2,4) --> 2\n",
    "    lesser_of_two_evens(2,5) --> 5"
   ]
  },
  {
   "cell_type": "code",
   "execution_count": 80,
   "metadata": {},
   "outputs": [
    {
     "name": "stdout",
     "output_type": "stream",
     "text": [
      "enter first num4\n",
      "enter second num3\n"
     ]
    },
    {
     "data": {
      "text/plain": [
       "'greater'"
      ]
     },
     "execution_count": 80,
     "metadata": {},
     "output_type": "execute_result"
    }
   ],
   "source": [
    "def odd(x,y):\n",
    "    if x%2==0 and y%2==0:\n",
    "        return \"lesser\"\n",
    "    elif x%2!=0 or y%2!=0:\n",
    "        return \"greater\"\n",
    "    \n",
    "x=int(input(\"enter first num\"))\n",
    "y=int(input(\"enter second num\"))\n",
    "z=odd(x,y)\n",
    "z\n",
    "        \n",
    "\n",
    "        \n",
    "\n"
   ]
  },
  {
   "cell_type": "markdown",
   "metadata": {},
   "source": [
    "# "
   ]
  }
 ],
 "metadata": {
  "kernelspec": {
   "display_name": "Python 3 (ipykernel)",
   "language": "python",
   "name": "python3"
  },
  "language_info": {
   "codemirror_mode": {
    "name": "ipython",
    "version": 3
   },
   "file_extension": ".py",
   "mimetype": "text/x-python",
   "name": "python",
   "nbconvert_exporter": "python",
   "pygments_lexer": "ipython3",
   "version": "3.9.12"
  }
 },
 "nbformat": 4,
 "nbformat_minor": 2
}
